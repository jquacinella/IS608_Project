{
 "metadata": {
  "name": "",
  "signature": "sha256:47dcac1f1f7021b0cabfdc81fc1049387953feb3760ca4ba3486debafbf6cf98"
 },
 "nbformat": 3,
 "nbformat_minor": 0,
 "worksheets": [
  {
   "cells": [
    {
     "cell_type": "markdown",
     "metadata": {},
     "source": [
      "# IS608 Project -- James Quacinella\n",
      "\n",
      "## Goal\n",
      "\n",
      "The goal of this project is to create cloropleth map of energy consumption on a per-county level. Data from the EIA gives data on utility level demand and what counties utilities deliver power to. We use data, plus Census data on population, to come up with an estimate of per-county energy consumption. This methodology will be explained below.\n",
      "\n",
      "## Data Sources\n",
      "\n",
      "  * [EIA Form 618](http://www.eia.gov/electricity/data/eia861/index.html) - This data folder has many Excel files, two of which are valuable\n",
      "    * Service Territories maps each County to all the utility IDs that serves it\n",
      "    * Retail data maps the amount of energy produced by each utlitity\n",
      "  * Annual Estimates of the Resident Population: April 1, 2010 to July 1, 2013 from U.S. Census Bureau, Population Division\n",
      "    * Actually downloaded from [FactFinder](http://factfinder2.census.gov/faces/tableservices/jsf/pages/productview.xhtml?src=bkmk)\n",
      "  \n",
      "## High Level Code Overview\n",
      "\n",
      "Here is some pseudo-code decribing the whole process, from raw data to final map output\n",
      "\n",
      "  * Build a mapping from county ID to its 2012 population (2012 being latest data from the EIA)\n",
      "  * Build a mapping from utility ID to the total energy output of that utility\n",
      "  * Build a mapping from utility ID to list of county IDs is serves\n",
      "  * Derive a mapping from utility ID to the sum of county populations of all the counties it serves\n",
      "  * For each county\n",
      "    * For each utility that serves this county, calculate an estimate of the county's consumption based of the ratio of the county's population to the total population the utility serves.\n",
      "  * Output the final county ID to consumption estimate to CSV. This will be served via a webserver to D3\n",
      "  \n",
      "## Issues\n",
      "\n",
      "  * The EIA data maps the Utility to a County by name, which did not eactly match the names of counties in the census data. This required some manual cleanup, which are being handled by the initial load data function.\n",
      "  * The EIA data does not have more granular data about how much each county consumes of its total energy output. A methodlolgy needed to be developed to approximate this data. I have contacted the EIA for comment, with no response yet.\n",
      "  \n",
      "## Code\n",
      "\n",
      "### Globals and Constants"
     ]
    },
    {
     "cell_type": "code",
     "collapsed": false,
     "input": [
      "import csv\n",
      "\n",
      "# Column indicies for EIA data\n",
      "UTILITY = 1\n",
      "STATE = 3\n",
      "COUNTY = 4\n",
      "\n",
      "# Column indicies for EIA retail data\n",
      "UTILITY_ID = 1\n",
      "CONSUMPTION = 21\n",
      "\n",
      "# Column indicies for Census data\n",
      "ID = 1\n",
      "DESC = 2\n",
      "POP2012 = 7\n",
      "\n",
      "# Global variables\n",
      "countyToUtility = {}        # Mapping from county number to a list of utilities serving it\n",
      "utilityToCounty = {}        # Mapping from utility id to a list of counties it serves\n",
      "countyToPopulation = {}     # Mapping from county number to a population from census data\n",
      "nameToID = {}               # Mapping from county name to the county code\n",
      "utilityToConsumption = {}   # Mapping the utility id to the total consumption in mWh\n",
      "utilityToPopulation = {}    # Mapping the utility id to the total county population it serves\n",
      "countyToConsumption = {}    # Mapping the final result of county ID to consumption in mWh\n",
      "\n",
      "\n",
      "# Constants\n",
      "YEAR = 2012\n",
      "PATH_TO_RETAIL_DATA = \"data/f8612012/retail_sales_%s.csv\" % YEAR  # Path to the defined utility service territories\n",
      "PATH_TO_SERVICE_DATA = \"data/f8612012/service_territory_%s.csv\" % YEAR  # Path to the defined utility service territories\n",
      "PATH_TO_POPULATION_DATA = \"data/PEP_2013_PEPANNRES/PEP_2013_PEPANNRES_with_ann_with_changes.csv\"\n",
      "STATES = { 'AK': 'Alaska','AL': 'Alabama','AR': 'Arkansas','AS': 'American Samoa','AZ': 'Arizona','CA': 'California','CO': 'Colorado','CT': 'Connecticut','DC': 'District of Columbia','DE': 'Delaware','FL': 'Florida','GA': 'Georgia','GU': 'Guam','HI': 'Hawaii','IA': 'Iowa','ID': 'Idaho','IL': 'Illinois','IN': 'Indiana','KS': 'Kansas','KY': 'Kentucky','LA': 'Louisiana','MA': 'Massachusetts','MD': 'Maryland','ME': 'Maine','MI': 'Michigan','MN': 'Minnesota','MO': 'Missouri','MP': 'Northern Mariana Islands','MS': 'Mississippi','MT': 'Montana','NA': 'National','NC': 'North Carolina','ND': 'North Dakota','NE': 'Nebraska','NH': 'New Hampshire','NJ': 'New Jersey','NM': 'New Mexico','NV': 'Nevada','NY': 'New York','OH': 'Ohio','OK': 'Oklahoma','OR': 'Oregon','PA': 'Pennsylvania','PR': 'Puerto Rico','RI': 'Rhode Island','SC': 'South Carolina','SD': 'South Dakota','TN': 'Tennessee','TX': 'Texas','UT': 'Utah','VA': 'Virginia','VI': 'Virgin Islands','VT': 'Vermont','WA': 'Washington','WI': 'Wisconsin','WV': 'West Virginia','WY': 'Wyoming'}"
     ],
     "language": "python",
     "metadata": {},
     "outputs": [],
     "prompt_number": 93
    },
    {
     "cell_type": "markdown",
     "metadata": {},
     "source": [
      "### Load the Data"
     ]
    },
    {
     "cell_type": "markdown",
     "metadata": {},
     "source": [
      "This function reads in the census data, and loads a dictionary that maps the county name to its county ID (nameToID), and another dictionary that maps from the county ID to the population estimate in 2012 (countyToPopulation). The county name is constructed as \"state_countyname\", all lowercase"
     ]
    },
    {
     "cell_type": "code",
     "collapsed": false,
     "input": [
      "def loadCensusData():\n",
      "    ''' Loads the mapping from county number to population into \n",
      "    'countyToUPopulation' and a name to ID mapping from the PATH_TO_POPULATION_DATA file. '''\n",
      "    f = open(PATH_TO_POPULATION_DATA)\n",
      "    reader = csv.reader(f)\n",
      "    reader.next()\n",
      "    reader.next()\n",
      "    for row in reader:\n",
      "        # Grab the important parts of the data\n",
      "        id = int(row[ID])\n",
      "        desc = row[DESC]\n",
      "        pop2012 = row[POP2012]\n",
      "\n",
      "        # Derice the 'county key' from the description column\n",
      "        (county, state) = desc.split(',')\n",
      "        county = county.lower().replace(\"county\", \"\").replace(\".\", \"\").replace(\" \", \"\")\n",
      "        state = state.lower().replace(' ', '')\n",
      "        key = state + '_' + county\n",
      "\n",
      "        # correction to Lousiana county names\n",
      "        if state == \"louisiana\":\n",
      "            key = key.replace(\"parish\", \"\")\n",
      "\n",
      "        # Setup the two mappings\n",
      "        nameToID[key] = id\n",
      "        countyToPopulation[id] = int(pop2012)\n",
      "\n",
      "\n"
     ],
     "language": "python",
     "metadata": {},
     "outputs": [],
     "prompt_number": 94
    },
    {
     "cell_type": "markdown",
     "metadata": {},
     "source": [
      "This function loads a dictionary, countyToUtility, that maps the county ID to the list of utilities that serve it (and a reverse mapping)"
     ]
    },
    {
     "cell_type": "code",
     "collapsed": false,
     "input": [
      "def loadCountytoUtilityData():\n",
      "    ''' Loads the mapping from county number to utilies into \n",
      "    'countyToUtility' from the PATH_TO_SERVICE_DATA file. '''\n",
      "    f = open(PATH_TO_SERVICE_DATA)\n",
      "    reader = csv.reader(f)\n",
      "    reader.next()\n",
      "    for row in reader:\n",
      "        state = STATES[ row[STATE].upper() ].lower().replace(' ', '')\n",
      "        county = row[COUNTY].lower().replace(' ', '').replace('.', '')\n",
      "        key = state + '_' + county\n",
      "        utilityID = int(row[UTILITY])\n",
      "\n",
      "        try:\n",
      "            if nameToID[key] in countyToUtility:\n",
      "                countyToUtility[nameToID[key]].add(utilityID)\n",
      "            else:\n",
      "                #if key not in nameToID:\n",
      "                #    print \"key %s not found\" % key\n",
      "                countyToUtility[nameToID[key]] = set([utilityID])\n",
      "\n",
      "            if utilityID in utilityToCounty:\n",
      "                utilityToCounty[utilityID].add(nameToID[key])\n",
      "            else:\n",
      "                utilityToCounty[utilityID] = set([nameToID[key]])\n",
      "        except Exception as e:\n",
      "            pass\n",
      "\n"
     ],
     "language": "python",
     "metadata": {},
     "outputs": [],
     "prompt_number": 95
    },
    {
     "cell_type": "markdown",
     "metadata": {},
     "source": [
      "This function loads the EIA data as a mapping from utility ID to the consumption data"
     ]
    },
    {
     "cell_type": "code",
     "collapsed": false,
     "input": [
      "def loadUtilityConsumptionData():\n",
      "    f = open(PATH_TO_RETAIL_DATA)\n",
      "    reader = csv.reader(f)\n",
      "    reader.next()\n",
      "    reader.next()\n",
      "    reader.next()\n",
      "    for row in reader:\n",
      "        id = int(row[UTILITY_ID])\n",
      "        consumption = int(row[CONSUMPTION].replace(',', ''))\n",
      "        utilityToConsumption[id] = consumption"
     ],
     "language": "python",
     "metadata": {},
     "outputs": [],
     "prompt_number": 96
    },
    {
     "cell_type": "markdown",
     "metadata": {},
     "source": [
      "We now define a function to map the utility ID to the sum of the populations of the counties it serves. This will help in the stimation of how much consumption each county was responsible for:"
     ]
    },
    {
     "cell_type": "code",
     "collapsed": false,
     "input": [
      "def deriveUtilityPopulation():\n",
      "    for utility, counties in utilityToCounty.items():\n",
      "        totPopulation = 0\n",
      "        for county in counties:\n",
      "            totPopulation += countyToPopulation[county]\n",
      "        utilityToPopulation[utility] = totPopulation"
     ],
     "language": "python",
     "metadata": {},
     "outputs": []
    },
    {
     "cell_type": "markdown",
     "metadata": {},
     "source": [
      "Now, for the main event: lets make our estimate for the consumption estimate of each county:"
     ]
    },
    {
     "cell_type": "code",
     "collapsed": false,
     "input": [
      "def calculateCountyConsumption():\n",
      "    for county, utilities in countyToUtility.items():\n",
      "        try:\n",
      "            countyToConsumption[county] = sum([((countyToPopulation[county] / utilityToPopulation[utility]) * utilityToConsumption[utility]) for utility in utilities])\n",
      "        except KeyError:\n",
      "            countyToConsumption[county] = 0"
     ],
     "language": "python",
     "metadata": {},
     "outputs": [],
     "prompt_number": 97
    },
    {
     "cell_type": "markdown",
     "metadata": {},
     "source": [
      "Ok, so lets load the data and take a look at what we have:"
     ]
    },
    {
     "cell_type": "code",
     "collapsed": false,
     "input": [
      "# Start by loading the census data and the service territory mapping\n",
      "loadCensusData()\n",
      "loadCountytoUtilityData()\n",
      "loadUtilityConsumptionData()\n",
      "deriveUtilityPopulation()\n",
      "calculateCountyConsumption()"
     ],
     "language": "python",
     "metadata": {},
     "outputs": [],
     "prompt_number": 98
    },
    {
     "cell_type": "code",
     "collapsed": false,
     "input": [
      "# Print random sample of county name to list of utility IDs\n",
      "for county, utilityList in countyToUtility.items()[0:10]:\n",
      "    print \"%s is served by utility IDs %s\" % (county, list(utilityList))"
     ],
     "language": "python",
     "metadata": {},
     "outputs": [
      {
       "output_type": "stream",
       "stream": "stdout",
       "text": [
        "15003 is served by utility IDs [19547]\n",
        "54065 is served by utility IDs [15263]\n",
        "42009 is served by utility IDs [40222]\n",
        "30007 is served by utility IDs [23586]\n",
        "30043 is served by utility IDs [23586]\n",
        "9003 is served by utility IDs [6207]\n",
        "41003 is served by utility IDs [40437]\n",
        "41005 is served by utility IDs [15248]\n",
        "41007 is served by utility IDs [28541]\n",
        "13095 is served by utility IDs [18305]\n"
       ]
      }
     ],
     "prompt_number": 99
    },
    {
     "cell_type": "code",
     "collapsed": false,
     "input": [
      "# Print random sample of county name to list of utility IDs\n",
      "for name, countyID in nameToID.items()[0:10]:\n",
      "    print \"%s (%s) had a population of %s\" % (name, countyID, countyToPopulation[countyID]) "
     ],
     "language": "python",
     "metadata": {},
     "outputs": [
      {
       "output_type": "stream",
       "stream": "stdout",
       "text": [
        "kansas_elk (20049) had a population of 2674\n",
        "alabama_wilcox (1131) had a population of 11406\n",
        "florida_washington (12133) had a population of 24854\n",
        "newmexico_mckinley (35031) had a population of 72726\n",
        "southcarolina_cherokee (45021) had a population of 55760\n",
        "texas_shackelford (48417) had a population of 3368\n",
        "westvirginia_grant (54023) had a population of 11814\n",
        "georgia_candler (13043) had a population of 11107\n",
        "illinois_pope (17151) had a population of 4271\n",
        "missouri_marion (29127) had a population of 28818\n"
       ]
      }
     ],
     "prompt_number": 100
    },
    {
     "cell_type": "code",
     "collapsed": false,
     "input": [
      "# Print random sample of utility ID to consumption data\n",
      "for utilityID, consumption in utilityToConsumption.items()[0:10]:\n",
      "    print \"County ID %s consumed %s mWh\" % (utilityID, consumption) "
     ],
     "language": "python",
     "metadata": {},
     "outputs": [
      {
       "output_type": "stream",
       "stream": "stdout",
       "text": [
        "County ID 8198 consumed 696574 mWh\n",
        "County ID 8199 consumed 102237 mWh\n",
        "County ID 57354 consumed 2060 mWh\n",
        "County ID 24590 consumed 423362 mWh\n",
        "County ID 8210 consumed 535614 mWh\n",
        "County ID 8212 consumed 307219 mWh\n",
        "County ID 57368 consumed 1349357 mWh\n",
        "County ID 16416 consumed 73074 mWh\n",
        "County ID 8226 consumed 145827 mWh\n",
        "County ID 16420 consumed 102694 mWh\n"
       ]
      }
     ],
     "prompt_number": 101
    },
    {
     "cell_type": "markdown",
     "metadata": {},
     "source": []
    },
    {
     "cell_type": "code",
     "collapsed": false,
     "input": [],
     "language": "python",
     "metadata": {},
     "outputs": [],
     "prompt_number": 102
    },
    {
     "cell_type": "code",
     "collapsed": false,
     "input": [],
     "language": "python",
     "metadata": {},
     "outputs": [],
     "prompt_number": 102
    },
    {
     "cell_type": "code",
     "collapsed": false,
     "input": [],
     "language": "python",
     "metadata": {},
     "outputs": [],
     "prompt_number": 102
    },
    {
     "cell_type": "code",
     "collapsed": false,
     "input": [],
     "language": "python",
     "metadata": {},
     "outputs": [],
     "prompt_number": 102
    }
   ],
   "metadata": {}
  }
 ]
}